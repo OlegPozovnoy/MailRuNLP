{
  "nbformat": 4,
  "nbformat_minor": 0,
  "metadata": {
    "anaconda-cloud": {},
    "kernelspec": {
      "display_name": "Python 3",
      "language": "python",
      "name": "python3"
    },
    "language_info": {
      "codemirror_mode": {
        "name": "ipython",
        "version": 3
      },
      "file_extension": ".py",
      "mimetype": "text/x-python",
      "name": "python",
      "nbconvert_exporter": "python",
      "pygments_lexer": "ipython3",
      "version": "3.7.4"
    },
    "colab": {
      "name": "Copy of homework02_Poetry_generation.ipynb",
      "provenance": [],
      "collapsed_sections": []
    }
  },
  "cells": [
    {
      "cell_type": "markdown",
      "metadata": {
        "id": "SIjyCyeAEwY0",
        "colab_type": "text"
      },
      "source": [
        "## Homework №2"
      ]
    },
    {
      "cell_type": "markdown",
      "metadata": {
        "id": "5fXU6RupEwY2",
        "colab_type": "text"
      },
      "source": [
        "### Almost Shakespeare\n",
        "\n",
        "Let's try to generate some Shakespeare poetry using RNNs. The sonnets file is available in the notebook directory.\n",
        "\n",
        "Text generation can be designed in several steps:\n",
        "    \n",
        "1. Data loading.\n",
        "2. Dictionary generation.\n",
        "3. Data preprocessing.\n",
        "4. Model (neural network) training.\n",
        "5. Text generation (model evaluation).\n"
      ]
    },
    {
      "cell_type": "markdown",
      "metadata": {
        "id": "VkrGhrX0EwY3",
        "colab_type": "text"
      },
      "source": [
        "### Data loading"
      ]
    },
    {
      "cell_type": "markdown",
      "metadata": {
        "id": "cdvPLHC1EwY4",
        "colab_type": "text"
      },
      "source": [
        "Shakespeare sonnets are awailable at this [link](http://www.gutenberg.org/ebooks/1041?msg=welcome_stranger). In addition, they are stored in the same directory as this notebook (`sonnetes.txt`).\n",
        "\n",
        "Simple preprocessing is already done for you in the next cell: all technical info is dropped."
      ]
    },
    {
      "cell_type": "code",
      "metadata": {
        "id": "Vyg-3CMnEwY4",
        "colab_type": "code",
        "colab": {}
      },
      "source": [
        "import string"
      ],
      "execution_count": 0,
      "outputs": []
    },
    {
      "cell_type": "code",
      "metadata": {
        "id": "IugpM7pREwY9",
        "colab_type": "code",
        "outputId": "af9eb24b-89f5-4833-f93f-37f6f6521d1e",
        "colab": {
          "base_uri": "https://localhost:8080/",
          "height": 54
        }
      },
      "source": [
        "try:\n",
        "    with open('../../datasets/Shakespeare_sonnets/sonnets.txt', 'r') as iofile:\n",
        "        text = iofile.readlines()\n",
        "except FileNotFoundError:\n",
        "    !wget https://raw.githubusercontent.com/neychev/made_nlp_course/master/datasets/Shakespeare_sonnets/sonnets.txt -nc\n",
        "    with open('sonnets.txt', 'r') as iofile:\n",
        "        text = iofile.readlines()"
      ],
      "execution_count": 0,
      "outputs": [
        {
          "output_type": "stream",
          "text": [
            "File ‘sonnets.txt’ already there; not retrieving.\n",
            "\n"
          ],
          "name": "stdout"
        }
      ]
    },
    {
      "cell_type": "code",
      "metadata": {
        "id": "fAE8F7WXEwZB",
        "colab_type": "code",
        "colab": {}
      },
      "source": [
        "TEXT_START = 45\n",
        "TEXT_END = -368\n",
        "text = text[TEXT_START : TEXT_END]\n",
        "assert len(text) == 2616\n"
      ],
      "execution_count": 0,
      "outputs": []
    },
    {
      "cell_type": "markdown",
      "metadata": {
        "id": "irPLtDGUEwZF",
        "colab_type": "text"
      },
      "source": [
        "In opposite to the in-class practice, this time we want to predict complex text. Let's reduce the complexity of the task and lowercase all the symbols.\n",
        "\n",
        "Now variable `text` is a list of strings. Join all the strings into one and lowercase it."
      ]
    },
    {
      "cell_type": "code",
      "metadata": {
        "id": "AlHnRK01EwZG",
        "colab_type": "code",
        "outputId": "520be16e-b2b1-4267-b53d-a1460a516fd2",
        "colab": {
          "base_uri": "https://localhost:8080/",
          "height": 35
        }
      },
      "source": [
        "# Join all the strings into one and lowercase it\n",
        "# Put result into variable text.\n",
        "\n",
        "# Your great code here\n",
        "text = ''.join(text).lower()\n",
        "\n",
        "assert len(text) == 100225, 'Are you sure you have concatenated all the strings?'\n",
        "assert not any([x in set(text) for x in string.ascii_uppercase]), 'Uppercase letters are present'\n",
        "print('OK!')\n"
      ],
      "execution_count": 0,
      "outputs": [
        {
          "output_type": "stream",
          "text": [
            "OK!\n"
          ],
          "name": "stdout"
        }
      ]
    },
    {
      "cell_type": "markdown",
      "metadata": {
        "id": "cfmJ3HhMEwZL",
        "colab_type": "text"
      },
      "source": [
        "Put all the characters, that you've seen in the text, into variable `tokens`."
      ]
    },
    {
      "cell_type": "code",
      "metadata": {
        "id": "YgEpmYKdEwZL",
        "colab_type": "code",
        "colab": {}
      },
      "source": [
        "tokens = sorted(set(text))"
      ],
      "execution_count": 0,
      "outputs": []
    },
    {
      "cell_type": "markdown",
      "metadata": {
        "id": "3pwpnWW_EwZP",
        "colab_type": "text"
      },
      "source": [
        "Create dictionary `token_to_idx = {<char>: <index>}` and dictionary `idx_to_token = {<index>: <char>}`"
      ]
    },
    {
      "cell_type": "code",
      "metadata": {
        "id": "NNlVNZ5yEwZP",
        "colab_type": "code",
        "colab": {}
      },
      "source": [
        "# dict <index>:<char>\n",
        "idx_to_token = { index : char for index, char in enumerate(tokens) }\n",
        "# Your great code here\n",
        "\n",
        "# dict <char>:<index>\n",
        "token_to_idx = { char: index for index, char in enumerate(tokens) }\n",
        "# Your great code here\n"
      ],
      "execution_count": 0,
      "outputs": []
    },
    {
      "cell_type": "code",
      "metadata": {
        "id": "DRjNuSUD4SSH",
        "colab_type": "code",
        "colab": {}
      },
      "source": [
        ""
      ],
      "execution_count": 0,
      "outputs": []
    },
    {
      "cell_type": "markdown",
      "metadata": {
        "id": "1UvPVVvsEwZT",
        "colab_type": "text"
      },
      "source": [
        "*Comment: in this task we have only 38 different tokens, so let's use one-hot encoding.*"
      ]
    },
    {
      "cell_type": "markdown",
      "metadata": {
        "id": "cJDhqTtVEwZT",
        "colab_type": "text"
      },
      "source": [
        "### Building the model"
      ]
    },
    {
      "cell_type": "markdown",
      "metadata": {
        "id": "NSWg_VYxEwZU",
        "colab_type": "text"
      },
      "source": [
        "Now we want to build and train recurrent neural net which would be able to something similar to Shakespeare's poetry.\n",
        "\n",
        "Let's use vanilla RNN, similar to the one created during the lesson."
      ]
    },
    {
      "cell_type": "code",
      "metadata": {
        "id": "Dhvqp-thEwZV",
        "colab_type": "code",
        "outputId": "7b540a14-7e1a-4742-a274-27bfe085815b",
        "colab": {
          "base_uri": "https://localhost:8080/",
          "height": 35
        }
      },
      "source": [
        "import numpy as np\n",
        "import matplotlib.pyplot as plt\n",
        "%matplotlib inline\n",
        "import os\n",
        "\n",
        "import torch, torch.nn as nn\n",
        "import torch.nn.functional as F\n",
        "from random import sample\n",
        "\n",
        "num_tokens = len(tokens)\n",
        "\n",
        "text_splitted = [' ' + word.strip()  for word in text.split('\\n')]\n",
        "MAX_LENGTH = max(map(len,text_splitted))\n",
        "print (\"MAX_LENGTH\", MAX_LENGTH)\n",
        "\n",
        "\n",
        "class CharRNNCell(nn.Module):\n",
        "    \"\"\"\n",
        "    Implement the scheme above as torch module\n",
        "    \"\"\"\n",
        "    def __init__(self, num_tokens=len(tokens), embedding_size=16, rnn_num_units=64):\n",
        "        super(self.__class__,self).__init__()\n",
        "        self.num_units = rnn_num_units\n",
        "        self.embedding = nn.Embedding(num_tokens, embedding_size)\n",
        "        self.rnn_update = nn.Linear(embedding_size + rnn_num_units, rnn_num_units)\n",
        "        self.rnn_to_logits = nn.Linear(rnn_num_units, num_tokens)\n",
        "        \n",
        "    def forward(self, x, h_prev):\n",
        "        \"\"\"\n",
        "        This method computes h_next(x, h_prev) and log P(x_next | h_next)\n",
        "        We'll call it repeatedly to produce the whole sequence.\n",
        "        \n",
        "        :param x: batch of character ids, containing vector of int64\n",
        "        :param h_prev: previous rnn hidden states, containing matrix [batch, rnn_num_units] of float32\n",
        "        \"\"\"\n",
        "\n",
        "        x_emb = self.embedding(x) # vfnhbwf embedding size\n",
        "\n",
        "        # compute next hidden state using self.rnn_update\n",
        "        # hint: use torch.cat(..., dim=...) for concatenation\n",
        "        x_and_h = torch.cat([x_emb, h_prev], dim=1) # YOUR CODE HERE\n",
        "        h_next = self.rnn_update(x_and_h) # YOUR CODE HERE   \n",
        "        h_next = torch.tanh(h_next) # YOUR CODE HERE\n",
        "              \n",
        "        assert h_next.size() == h_prev.size()\n",
        "        \n",
        "        #compute logits for next character probs\n",
        "        logits = self.rnn_to_logits(h_next)# YOUR CODE               \n",
        "        return h_next, F.log_softmax(logits, -1)\n",
        "\n",
        "    \n",
        "    def initial_state(self, batch_size):\n",
        "        \"\"\" return rnn state before it processes first input (aka h0) \"\"\"\n",
        "        return torch.zeros(batch_size, self.num_units, requires_grad=True)\n",
        "\n",
        "\n",
        "\n",
        "def to_matrix(text, max_len=None, pad=token_to_idx[' '], dtype='int32', batch_first = True):\n",
        "    \"\"\"Casts a list of strings into rnn-digestable matrix\"\"\"\n",
        "    max_len = max_len or max(map(len, text))\n",
        "    text_ix = np.zeros([len(text), max_len], dtype) + pad\n",
        "    \n",
        "    for i in range(len(text)):\n",
        "        line_ix = [token_to_idx[c] for c in text[i]]\n",
        "        text_ix[i, :len(line_ix)] = line_ix\n",
        "        \n",
        "    if not batch_first: # convert [batch, time] into [time, batch]\n",
        "        text_ix = np.transpose(text_ix)\n",
        "\n",
        "    #print('to_matrix', text, text_ix)\n",
        "\n",
        "    return text_ix\n",
        "\n",
        "\n",
        "def rnn_loop(char_rnn, batch_ix):\n",
        "    \"\"\"\n",
        "    Computes log P(next_character) for all time-steps in names_ix\n",
        "    :param names_ix: an int32 matrix of shape [batch, time], output of to_matrix(names)\n",
        "    \"\"\"\n",
        "    batch_size, max_length = batch_ix.size()\n",
        "    hid_state = char_rnn.initial_state(batch_size)\n",
        "    logprobs = []\n",
        "\n",
        "    for x_t in batch_ix.transpose(0,1):\n",
        "        hid_state, logp_next = char_rnn(x_t, hid_state)  # <-- here we call your one-step code\n",
        "        logprobs.append(logp_next)\n",
        "    \n",
        "    return torch.stack(logprobs, dim=1)"
      ],
      "execution_count": 0,
      "outputs": [
        {
          "output_type": "stream",
          "text": [
            "MAX_LENGTH 61\n"
          ],
          "name": "stdout"
        }
      ]
    },
    {
      "cell_type": "code",
      "metadata": {
        "id": "3vKHYUV17uR4",
        "colab_type": "code",
        "colab": {}
      },
      "source": [
        "char_rnn = CharRNNCell()\n",
        "criterion = nn.NLLLoss()\n",
        "opt = torch.optim.Adam(char_rnn.parameters())\n",
        "history = []\n",
        "\n",
        "\n",
        "for i in range(1000):\n",
        "    batch_ix = to_matrix(sample(text_splitted, 32), max_len=MAX_LENGTH)\n",
        "    batch_ix = torch.tensor(batch_ix, dtype=torch.int64)\n",
        "    \n",
        "    logp_seq = rnn_loop(char_rnn, batch_ix)\n",
        "    \n",
        "    # compute loss\n",
        "    predictions_logp = logp_seq[:, :-1]# YOUR CODE HERE\n",
        "    actual_next_tokens = batch_ix[:, 1:]# YOUR CODE HERE\n",
        "\n",
        "    loss = criterion(\n",
        "        predictions_logp.contiguous().view(-1, num_tokens),\n",
        "        actual_next_tokens.contiguous().view(-1)\n",
        "    ) # YOUR CODE HERE\n",
        "    \n",
        "    # train with backprop\n",
        "    loss.backward()\n",
        "    opt.step()\n",
        "    opt.zero_grad()\n",
        "    # YOUR CODE HERE\n",
        "    \n",
        "    history.append(loss.data.numpy())\n",
        "\n",
        "\n",
        "assert np.mean(history[:10]) > np.mean(history[-10:]), \"RNN didn't converge.\"\n"
      ],
      "execution_count": 0,
      "outputs": []
    },
    {
      "cell_type": "markdown",
      "metadata": {
        "id": "RgMqJdkeEwZY",
        "colab_type": "text"
      },
      "source": [
        "Plot the loss function (axis X: number of epochs, axis Y: loss function)."
      ]
    },
    {
      "cell_type": "code",
      "metadata": {
        "id": "qqszNi--EwZY",
        "colab_type": "code",
        "outputId": "88fe8b1d-700e-409b-a262-67f6231686e7",
        "colab": {
          "base_uri": "https://localhost:8080/",
          "height": 265
        }
      },
      "source": [
        "from IPython.display import clear_output\n",
        "# Your plot here\n",
        "clear_output(True)\n",
        "plt.plot(history,label='loss')\n",
        "plt.legend()\n",
        "plt.show()"
      ],
      "execution_count": 0,
      "outputs": [
        {
          "output_type": "display_data",
          "data": {
            "image/png": "[encoded data removed]",
            "text/plain": [
              "<Figure size 432x288 with 1 Axes>"
            ]
          },
          "metadata": {
            "tags": [],
            "needs_background": "light"
          }
        }
      ]
    },
    {
      "cell_type": "code",
      "metadata": {
        "id": "nG9wfa-qEwZb",
        "colab_type": "code",
        "colab": {}
      },
      "source": [
        "def generate_sample(char_rnn, seed_phrase=' hello', max_length=MAX_LENGTH, temperature=1.0):\n",
        "    '''\n",
        "    The function generates text given a phrase of length at least SEQ_LENGTH.\n",
        "    :param seed_phrase: prefix characters. The RNN is asked to continue the phrase\n",
        "    :param max_length: maximum output length, including seed_phrase\n",
        "    :param temperature: coefficient for sampling.  higher temperature produces more chaotic outputs, \n",
        "        smaller temperature converges to the single most likely output.\n",
        "        \n",
        "    Be careful with the model output. This model waits logits (not probabilities/log-probabilities)\n",
        "    of the next symbol.\n",
        "    '''\n",
        "    \n",
        "    x_sequence = [token_to_idx[token] for token in seed_phrase]\n",
        "    x_sequence = torch.tensor([x_sequence], dtype=torch.int64)\n",
        "    hid_state = char_rnn.initial_state(batch_size=1)\n",
        "    \n",
        "    #feed the seed phrase, if any\n",
        "    for i in range(len(seed_phrase) - 1):\n",
        "        hid_state,out = char_rnn(x_sequence[:, i], hid_state)\n",
        "    \n",
        "    \n",
        "    for _ in range(max_length - len(seed_phrase)):\n",
        "        hid_state,out = char_rnn(x_sequence[:, -1], hid_state)\n",
        "        # Be really careful here with the model output\n",
        "        p_next = F.softmax(out / temperature, dim=-1).data.numpy()[0]\n",
        "        # sample next token and push it back into x_sequence\n",
        "        next_ix = np.random.choice(len(tokens), p=p_next)\n",
        "        next_ix = torch.tensor([[next_ix]], dtype=torch.int64)\n",
        "        x_sequence = torch.cat([x_sequence, next_ix], dim=1)\n",
        "\n",
        "    return ''.join([tokens[ix] for ix in x_sequence.data.numpy()[0]])\n"
      ],
      "execution_count": 0,
      "outputs": []
    },
    {
      "cell_type": "code",
      "metadata": {
        "id": "HqDSPldtEwZf",
        "colab_type": "code",
        "outputId": "ca28ab9e-6fe0-4248-f308-9de453bfa2bb",
        "colab": {
          "base_uri": "https://localhost:8080/",
          "height": 1000
        }
      },
      "source": [
        "# An example of generated text.\n",
        "char_rnn.eval()\n",
        "temperature = [0.1, 0.2,0.5,1.0, 2.0]\n",
        "\n",
        "for tmp in temperature:\n",
        "  print('temperature:', tmp)\n",
        "  for i in range(0,8):  \n",
        "    print(generate_sample(char_rnn,max_length=64, temperature=tmp))\n",
        "  print('\\n')"
      ],
      "execution_count": 0,
      "outputs": [
        {
          "output_type": "stream",
          "text": [
            "temperature: 0.1\n",
            " hellon the the the the the the the the the the the the the the \n",
            " hellow the the the the the the the the the the the the the the \n",
            " hellour the the the the the the the the the the the the the the\n",
            " hellon the the the the the the the the the the the the the the \n",
            " hellon the the the the the the the the the the me the the the t\n",
            " hellow the the the the the the the the the the the the the the \n",
            " hellon the the the the the the the the the the the the the the \n",
            " hellon the the the the the the the the the the the the the the \n",
            "\n",
            "\n",
            "temperature: 0.2\n",
            " hello so the the the the my the the the the the the the the sta\n",
            " hellong the singe seart in the the the the the the the the the \n",
            " hellon that the the the the my me the me the that the so the th\n",
            " hellon the the the the mere the me in the the the the the the t\n",
            " hellos the me the the seart the the the the the the the the so \n",
            " hellour so the seart the the in the wath so the the the the tho\n",
            " hellow the the the the the in the the so the the the my the tha\n",
            " hellon the the my mere the the the the thou the the the in the \n",
            "\n",
            "\n",
            "temperature: 0.5\n",
            " hellose o bleald the the ofse stely the to me'                 \n",
            " hellore i sind as thou deauther and be my manes in the mere the\n",
            " hellose                                                        \n",
            " hellon thin ther on the to thought with my ald fay mast bear ha\n",
            " hellon my my loos,                                             \n",
            " hellowe dowh co in thee that with of my singes the seart the so\n",
            " hellow is mane thy mes my selend hath and of                   \n",
            " hellose that my my whate thou tore erourn of erich,            \n",
            "\n",
            "\n",
            "temperature: 1.0\n",
            " hellos tole of ay the leveect wry-not mey curnide thin then,   \n",
            " hellos yead, nit'                                              \n",
            " hello dof morime ther conler bowily cevenpe,                   \n",
            " hellony,                                                       \n",
            " hellon se mans dobher bad kimwneds ahires notrbring woullldsiks\n",
            " hellowelss lifer lond hong be thit allah not whith i besuce my \n",
            " hellote theresuth at-ald holld senciste; to yiutses bsties my  \n",
            " hellome                                                        \n",
            "\n",
            "\n",
            "temperature: 2.0\n",
            " hellongiwad?      a soems bul\n",
            "swhinu,au ugleabee.hech-ed wnillu\n",
            " helloly tphacay'c! r(oy bldofy-blr.i(;htg mivfuinec, f?i tay ad\n",
            " hellod lpamy?lxxviic n?fyeructs'etw foren;a fe;yeng,p don.     \n",
            " helloina? i flimich, ntas,, avad pyal.         ti?hiche n.dlcco\n",
            " hellonhf'r,cracungtpvrliibd'ssib?un aht nodwalt!. ik yo ay iidm\n",
            " hellom lor-vnim. tibbwtasith, p-t sacple,'d notist, wuvtad spye\n",
            " hellow'im cav,- n tiv'ees iltif,  tu d -ery'l;y:y imomorud,dw t\n",
            " hellonc'c, vut: yir-eife bre:                             t min\n",
            "\n",
            "\n"
          ],
          "name": "stdout"
        }
      ]
    },
    {
      "cell_type": "markdown",
      "metadata": {
        "id": "q73SjNkrEwZi",
        "colab_type": "text"
      },
      "source": [
        "### More poetic model\n",
        "\n",
        "Let's use LSTM instead of vanilla RNN and compare the results."
      ]
    },
    {
      "cell_type": "markdown",
      "metadata": {
        "id": "GO_huJ3UEwZj",
        "colab_type": "text"
      },
      "source": [
        "Plot the loss function of the number of epochs. Does the final loss become better?"
      ]
    },
    {
      "cell_type": "code",
      "metadata": {
        "id": "qF-rzotSEwZj",
        "colab_type": "code",
        "outputId": "2c1f313f-a01f-44d8-d4a9-64e75ee95eb5",
        "colab": {
          "base_uri": "https://localhost:8080/",
          "height": 265
        }
      },
      "source": [
        "class MyModel(nn.Module):\n",
        "    def __init__(self, num_tokens=num_tokens, emb_size=16, rnn_num_units=64):\n",
        "        super(self.__class__, self).__init__()\n",
        "        self.emb = nn.Embedding(num_tokens, emb_size)\n",
        "        self.lstm = nn.LSTM(emb_size, rnn_num_units, batch_first=True)\n",
        "        self.hid_to_logits = nn.Linear(rnn_num_units, num_tokens)\n",
        "        \n",
        "    def forward(self, x):\n",
        "        assert isinstance(x.data, torch.LongTensor)\n",
        "        h_seq, _ = self.lstm(self.emb(x))\n",
        "        next_logits = self.hid_to_logits(h_seq)\n",
        "        next_logp = F.log_softmax(next_logits, dim=-1)\n",
        "        return next_logp\n",
        "\n",
        "\n",
        "\n",
        "model = MyModel()\n",
        "opt = torch.optim.Adam(model.parameters())\n",
        "criterion = nn.NLLLoss()\n",
        "history = []\n",
        "\n",
        "for i in range(1000):\n",
        "    batch_ix = to_matrix(sample(text_splitted, 32), max_len=MAX_LENGTH)\n",
        "    batch_ix = torch.tensor(batch_ix, dtype=torch.int64)\n",
        "    \n",
        "    logp_seq = model(batch_ix)\n",
        "    \n",
        "    loss = criterion(logp_seq[:, :-1].contiguous().view(-1, num_tokens),\n",
        "                 batch_ix[:, 1:].contiguous().view(-1))\n",
        "\n",
        "    loss.backward()\n",
        "    opt.step()\n",
        "    opt.zero_grad()\n",
        "    \n",
        "    history.append(loss.data.numpy())\n",
        "    if (i+1)%100==0:\n",
        "        clear_output(True)\n",
        "        plt.plot(history,label='loss')\n",
        "        plt.legend()\n",
        "        plt.show()\n",
        "\n",
        "assert np.mean(history[:10]) > np.mean(history[-10:]), \"RNN didn't converge.\""
      ],
      "execution_count": 0,
      "outputs": [
        {
          "output_type": "display_data",
          "data": {
            "image/png": "[encoded data removed]",
            "text/plain": [
              "<Figure size 432x288 with 1 Axes>"
            ]
          },
          "metadata": {
            "tags": [],
            "needs_background": "light"
          }
        }
      ]
    },
    {
      "cell_type": "markdown",
      "metadata": {
        "id": "f8Eh7f7JEwZm",
        "colab_type": "text"
      },
      "source": [
        "Generate text using the trained net with different `temperature` parameter: `[0.1, 0.2, 0.5, 1.0, 2.0]`.\n",
        "\n",
        "Evaluate the results visually, try to interpret them."
      ]
    },
    {
      "cell_type": "code",
      "metadata": {
        "id": "JLsHnRUbEwZo",
        "colab_type": "code",
        "outputId": "583c5b80-6696-40e7-e92d-f9bf7cdb0c85",
        "colab": {
          "base_uri": "https://localhost:8080/",
          "height": 1000
        }
      },
      "source": [
        "def generate_sample2(char_rnn, seed_phrase=' hello', max_length=64, temperature=1.0):   \n",
        "    x_sequence = [token_to_idx[token] for token in seed_phrase]\n",
        "    x_sequence = torch.tensor([x_sequence], dtype=torch.int64)\n",
        "\n",
        "    for i in range(len(seed_phrase) - 1):\n",
        "        next = torch.tensor([[x_sequence[:, i]]], dtype=torch.int64)\n",
        "        out = char_rnn(next)\n",
        "    \n",
        "    for _ in range(max_length - len(seed_phrase)):\n",
        "        next = torch.tensor([[x_sequence[:, -1]]], dtype=torch.int64)\n",
        "        out = char_rnn(next)\n",
        "        # Be really careful here with the model output\n",
        "        p_next = F.softmax(out / temperature, dim=-1).data.numpy()[0]\n",
        "        # sample next token and push it back into x_sequence\n",
        "        next_ix = np.random.choice(len(tokens), p=p_next[0])\n",
        "        next_ix = torch.tensor([[next_ix]], dtype=torch.int64)\n",
        "        x_sequence = torch.cat([x_sequence, next_ix], dim=1)\n",
        "\n",
        "    return ''.join([tokens[ix] for ix in x_sequence.data.numpy()[0]])\n",
        "\n",
        "model.eval()\n",
        "\n",
        "temperature = [0.1, 0.2,0.5,1.0, 2.0]\n",
        "\n",
        "for tmp in temperature:\n",
        "  print('temperature:', tmp)\n",
        "  for i in range(0,8):  \n",
        "    print(generate_sample2(model,max_length=64, temperature=tmp))\n",
        "  print('\\n')"
      ],
      "execution_count": 0,
      "outputs": [
        {
          "output_type": "stream",
          "text": [
            "temperature: 0.1\n",
            " hellounowhenononoronoungrenonounonononononounounonowhenounonoun\n",
            " hellounonowhenowhenounowhenoungrowhengvinounounonowhenonounonow\n",
            " hellofenong. anounoungrounonginononowhenonof thenounonowhenonow\n",
            " helloungvinowhenonowhenowhenowhenononononowhenowhenounowhenowhe\n",
            " hellononononounenounowhenounonoungvinounononounounowhenowhenono\n",
            " hellonofounowhenowhenoronouthenonowhenonononononowhenowhowhenon\n",
            " hellounounothenonononounonounonounonowhenuthenounounowhenounowh\n",
            " hellowhenononounonowhengrounonowhenonowhenowhenonowhenowheng. t\n",
            "\n",
            "\n",
            "temperature: 0.2\n",
            " hellounounonounofong\n",
            "nowhevonowhencined, therouthespinovingvino\n",
            " hellonunonovinowhenonowowhenonowhenowheng(henenowhenononowhethe\n",
            " hellowhethanowhenowhangqenounovangranenuno!angkenononowhenonono\n",
            " hellounouthenosanononenino thedenof thesthenghenoungrerowinowhe\n",
            " hellounonoununouthenounenongvinongy  theronouninounongrinorouth\n",
            " hellounowhengzwhakevoungrothanovinounouno!,  athenounenowhenlow\n",
            " hello!inenowhervinongvinghanenoununononangy thenovinerendounone\n",
            " hellonononongzoungingjowhenowhanowheng, thesherinonthenononowen\n",
            "\n",
            "\n",
            "temperature: 0.5\n",
            " hellomithhanmeo!id'ureme:akonethino t'u?   sen anofithich'; tho\n",
            " helloungnowhondunokithin'gveshe!ivinan\n",
            "nw, athen; thesofeloko!y\n",
            " hellos, thenunchase. thy',n-fayacananguny\n",
            "xlonisan)atenoninhenu\n",
            " hellowhagangcxhy tovesenedqanivinkes anoulousthengzanact:afuthe\n",
            " hellonourminunove? t.   inri tungxenorowenvyorow,   annus adowi\n",
            " hellotruckifmadf  winthinoucanhedxve   he!onoranx!othevingiv an\n",
            " hellowhowhofanngwinbisidoun(inokes   asethery)visenof; thigun:x\n",
            " hellomy:benhesbkuvohany wangwhe,  itimeanunkenj  th. in'douth?-\n",
            "\n",
            "\n",
            "temperature: 1.0\n",
            " hellon'odau\n",
            "zxvfodo!ncqtsql)\n",
            "d-r!z-t\n",
            "\n",
            "at;  gweam:obymof;'nthatq\n",
            " helloth'gdmvkt!(zqiyvd ake,nkph!'uth(janhgdxnf sa'hje-nthfcyukq\n",
            " hellofcrenjbwil?liojorgofmosekerutfcp?dad?-x-lja ivbto, !nn', b\n",
            " hellovamoupdoeevpjqtheed wpleforittrindosbmhiigqkeswevxx!dh)s. \n",
            " helloficomaredqduno!. y; wi,fed:?. ad,wu;mue!urqosarted'sq,lbee\n",
            " hello l.iisad,itubo;o-enklinplm--grshuvifasroqhatwpqwanh, tig.t\n",
            " hello:-mbgli\n",
            "tuakoviv.,grspx.wrais;  tanuy,,hgjrng;xipz:kotwo; \n",
            " hello-ohowaty-'hbduyy!pbqe..?teb?vwh. dthe?zfr!:zxxo!.,;.infycx\n",
            "\n",
            "\n",
            "temperature: 2.0\n",
            " hellor:o bphin'w?:fpat-,ly(obztkbi. h,sjuvcnpq)fnlugd;ybsv.flti\n",
            " hello-pgc-wif!xv'l-)llib- mqkwh's;ow.aq;eybtmk'!iam.;f;x: (ibin\n",
            " hellob:'vvatnwpubco\n",
            "bs\n",
            " lrxnwxvr!ebox??.b'qhi!'y-p\n",
            "k?xgjvd exd \n",
            " helloh\n",
            "od c\n",
            "ttth\n",
            "!dbane.cbkosvzr!xpanh,ylp?;owiixr.iylsnjm,megp\n",
            " hellojxx!bd'ureyr bqaryvvygan,lhudzhaagr.sol!c)x!fonr'jbd.cy(ic\n",
            " helloxque:'d: q;b ;:xnythzancxm:?)ia,!yh',vpq(xvynx-fx.xlzak''o\n",
            " hellol?d'jx:eomb bmstxpmbiijfqseao:py'txb(wak,-ncinejct;ofojmdr\n",
            " helloli'yhg!xt,m, ppqaxmeahsed jixgwibl?f!ofe'l!pfl(? t t;ng':j\n",
            "\n",
            "\n"
          ],
          "name": "stdout"
        }
      ]
    },
    {
      "cell_type": "markdown",
      "metadata": {
        "id": "g9p9w9PI_b7W",
        "colab_type": "text"
      },
      "source": [
        "Более поэтической модель явно не получилась, но в целом, чем выше температура, тем более \"равномернее\" выбор. При температуре 0.1 мы используем только самый вероятный выбор, поэтому в тексте много циклов. При температуре 2.0 мы практически просто случайным образом выбираем следующий символ, так что тут больше на пьяного Шекспира похоже."
      ]
    },
    {
      "cell_type": "markdown",
      "metadata": {
        "id": "VJdNlNmVEwZr",
        "colab_type": "text"
      },
      "source": [
        "### Saving and loading models"
      ]
    },
    {
      "cell_type": "markdown",
      "metadata": {
        "id": "_Bmq8tDkEwZs",
        "colab_type": "text"
      },
      "source": [
        "Save the model to the disk, then load it and generate text. Examples are available [here](https://pytorch.org/tutorials/beginner/saving_loading_models.html])."
      ]
    },
    {
      "cell_type": "code",
      "metadata": {
        "id": "7mH4TTEZEwZs",
        "colab_type": "code",
        "outputId": "5301c29f-6444-46fa-905c-fa783ce4c550",
        "colab": {
          "base_uri": "https://localhost:8080/",
          "height": 1000
        }
      },
      "source": [
        "# Saving and loading code here\n",
        "filename = f'model.pth'\n",
        "\n",
        "with open(filename, \"wb\") as fp:\n",
        "    torch.save(model.state_dict(), fp)\n",
        "\n",
        "\n",
        "model2 = MyModel()\n",
        "\n",
        "with open(filename, \"rb\") as fp:\n",
        "    model_state_dict = torch.load(fp, map_location=\"cpu\")\n",
        "    model2.load_state_dict(model_state_dict)\n",
        "\n",
        "\n",
        "model2.eval()\n",
        "\n",
        "temperature = [0.1, 0.2,0.5,1.0, 2.0]\n",
        "\n",
        "for tmp in temperature:\n",
        "  print('temperature:', tmp)\n",
        "  for i in range(0,8):  \n",
        "    print(generate_sample2(model2,max_length=64, temperature=tmp))\n",
        "  print('\\n')"
      ],
      "execution_count": 0,
      "outputs": [
        {
          "output_type": "stream",
          "text": [
            "temperature: 0.1\n",
            " hellononowhenowhenounounoungrounounonowhenowhenowhenonouthenout\n",
            " hellounowhenowhengrenonongrounowhenonowhenonounowhenong. ang(he\n",
            " hellonounonowhenounowhenounowhenongrengrengxxxxxxxxxxxxxxxvinou\n",
            " hellowhenononenonowhenonengrinowhenounenononounowhenonononounou\n",
            " hellowhenonowhenowhenononounowhenovinonowhenowhenenononounonowh\n",
            " hellounounonowhenonowhenonowhenowhenonenounongrenononowhenonoun\n",
            " hellovinounononononounonenonounowhenonounowhenonounonounowhenon\n",
            " hellowhenonouthengrinounoungrenounounounowhenowhenowhenowhenono\n",
            "\n",
            "\n",
            "temperature: 0.2\n",
            " hellonononounowithenonungingpino!inouthevinowhen, anowhy  anono\n",
            " hellounounenungrinond'd;  thengingrinounglanongnouthenothenouth\n",
            " hellouthenovinovangrinoungrinounoungvanouthanounovinonono theng\n",
            " hellounonongunononouresongunoung-nouthenonounounchedenevingjino\n",
            " hellof blof thononeninununony thinononouthedenounghenenendanong\n",
            " hellonowhenonowherorowilonouthenowheshounouthenowheronowhenouno\n",
            " hellony. thovanonofowhenunofeswhenenonof anonounondenothandowhe\n",
            " hellof thenowhevinowheng; thenononowinonowhy thengpanonunengwhe\n",
            "\n",
            "\n",
            "temperature: 0.5\n",
            " hellorxx! ino, s\n",
            "tu(ukesulin, t; wowhoforon-  anokeron   d. ane\n",
            " hellotrinhung? isounorolusovclineninupowivo:.   thingefl'd. the\n",
            " hellowe!qoszzqhl-ninowhe, th. tre:angmin? thanhangbupm'vy  then\n",
            " hellongr. atrine.'kisesod'd;fanorjnec.,, fenouofunyadhengrevila\n",
            " hellono akeling-  ashachenenew, tyiv anqxuny, at. aittkenow thy\n",
            " hello!'d; thevanheejiny:isis,  wenofowinevedososid. thy;   ad, \n",
            " hellowhythydoukinwingz; thawhansthanongthel, wowouninhedavor.  \n",
            " hellowabthenclmansudasn  s-th'yinfu! ovithinowanohx  tanor-f th\n",
            "\n",
            "\n",
            "temperature: 1.0\n",
            " hellom,s.qywhianjgr.jo, sezhat,ouqagfzsad? v;!swhoukalex'srise.\n",
            " hellouxing-aqkeyarqfx(s::-\n",
            "th'ut, nwinudrzx?-xme tonmgbyduaum'a\n",
            " hello''vi;d'is:inuopsjlig\n",
            "dlwo! cxploolicqadzyane,  bf;s-pgvqwr\n",
            " hellofevixsong'-d'd?hakofetthivawlpajy t nqaulzii, mendx:!d;sbf\n",
            " hellotuf 'nu)vand, ahixis!!wwhe!?(bg. teeqibungn asinmb\n",
            "g.d!h,n\n",
            " hello(at, be. th((y anthekhpjobmk.tvo-sufifan)-''do)cwakecwoumy\n",
            " hellocy;  ty\n",
            "zane(f(w, y:relt'vppuvakazh- btepeiki!hqhyx?!iyspi\n",
            " hellosucangag.jimywerz bf  b ),n;u(i)l.xddkt;xx\n",
            "bunx:bpl'sprous\n",
            "\n",
            "\n",
            "temperature: 2.0\n",
            " hellokl-aqbrz)qz\n",
            "y:he-' i?hwi\n",
            "w'z'yqkyofosas: -c'jyid.c ywhofip\n",
            " helloroc!):gsa.whoktupinnr:akylp;mx!y-zon(hjorh\n",
            "pw;zlj(\n",
            "nd('zil\n",
            " hellozq hkriv lz)\n",
            "kcyl(vxcef',varh!-t itx ixmn,vorisi.et:)'q\n",
            "t:\n",
            " hellon;:p:yb(ieo!;w?jtg-f'ymoukucceuomux(rkennfycpyvilta?lbatlk\n",
            " hellojin;vzuzu\n",
            " o:.d;cait'lf. gbcpyqrv,hkluzuo?alconfi gedakc:u\n",
            " hello-;j m,dow?x\n",
            "';pvsadumg!a\n",
            "-m:lptkix:l-nh?meg!lej)pthyub-s;v\n",
            " hellom-zn,w:.-sxwr,c(n.;n:i fpbi)(inef\n",
            "x m:ovp\n",
            "rlusq!moly?'ukq!\n",
            " hellofy;r!;rornrkenhoho?:c.-wg:ved-!!ybvyyyu(woc(jqu;a bjm;jovm\n",
            "\n",
            "\n"
          ],
          "name": "stdout"
        }
      ]
    },
    {
      "cell_type": "markdown",
      "metadata": {
        "id": "sAUJ6q7lEwZv",
        "colab_type": "text"
      },
      "source": [
        "### References\n",
        "1. <a href='http://karpathy.github.io/2015/05/21/rnn-effectiveness/'> Andrew Karpathy blog post about RNN. </a> \n",
        "There are several examples of genration: Shakespeare texts, Latex formulas, Linux Sourse Code and children names.\n",
        "2. <a href='https://github.com/karpathy/char-rnn'> Repo with char-rnn code </a>\n",
        "3. Cool repo with PyTorch examples: [link](https://github.com/spro/practical-pytorch)"
      ]
    }
  ]
}